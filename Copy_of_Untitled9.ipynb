{
  "nbformat": 4,
  "nbformat_minor": 0,
  "metadata": {
    "colab": {
      "provenance": [],
      "authorship_tag": "ABX9TyMLwVfEFBxC8R1JKI66U+2G",
      "include_colab_link": true
    },
    "kernelspec": {
      "name": "python3",
      "display_name": "Python 3"
    },
    "language_info": {
      "name": "python"
    }
  },
  "cells": [
    {
      "cell_type": "markdown",
      "metadata": {
        "id": "view-in-github",
        "colab_type": "text"
      },
      "source": [
        "<a href=\"https://colab.research.google.com/github/BHOSALEMAHADEV/CUSTOMER-REVIEWS-USING-TF-IDF-VECTORIZATION-AND-LOGISTIC-REGRESSION/blob/main/Copy_of_Untitled9.ipynb\" target=\"_parent\"><img src=\"https://colab.research.google.com/assets/colab-badge.svg\" alt=\"Open In Colab\"/></a>"
      ]
    },
    {
      "cell_type": "code",
      "source": [
        "import pandas as pd\n",
        "import numpy as np\n",
        "import re\n",
        "import string\n",
        "from sklearn.model_selection import train_test_split\n",
        "from sklearn.feature_extraction.text import TfidfVectorizer\n",
        "from sklearn.linear_model import LogisticRegression\n",
        "from sklearn.metrics import accuracy_score, classification_report\n",
        "\n",
        "# Load dataset\n",
        "df = pd.read_csv(\"/iphone.csv\")\n",
        "\n",
        "# Select relevant columns\n",
        "df = df[['reviewDescription', 'ratingScore']].dropna()\n",
        "\n",
        "# Define sentiment: 1 (positive) for ratings 4-5, 0 (negative) for ratings 1-3\n",
        "df['sentiment'] = df['ratingScore'].apply(lambda x: 1 if x >= 4 else 0)\n",
        "\n",
        "# Text preprocessing function\n",
        "def preprocess_text(text):\n",
        "    text = str(text).lower()\n",
        "    text = re.sub(f\"[{string.punctuation}]\", \"\", text)\n",
        "    text = re.sub(r\"\\d+\", \"\", text)\n",
        "    return text\n",
        "\n",
        "# Apply preprocessing\n",
        "df[\"cleaned_review\"] = df[\"reviewDescription\"].apply(preprocess_text)\n",
        "\n",
        "# Splitting data\n",
        "X_train, X_test, y_train, y_test = train_test_split(\n",
        "    df[\"cleaned_review\"], df[\"sentiment\"], test_size=0.2, random_state=42\n",
        ")\n",
        "\n",
        "# TF-IDF Vectorization\n",
        "tfidf_vectorizer = TfidfVectorizer()\n",
        "X_train_tfidf = tfidf_vectorizer.fit_transform(X_train)\n",
        "X_test_tfidf = tfidf_vectorizer.transform(X_test)\n",
        "\n",
        "# Logistic Regression Model\n",
        "model = LogisticRegression()\n",
        "model.fit(X_train_tfidf, y_train)\n",
        "\n",
        "# Predictions\n",
        "y_pred = model.predict(X_test_tfidf)\n",
        "\n",
        "# Evaluation\n",
        "accuracy = accuracy_score(y_test, y_pred)\n",
        "print(f\"Accuracy: {accuracy:.2f}\")\n",
        "print(\"Classification Report:\")\n",
        "print(classification_report(y_test, y_pred))\n"
      ],
      "metadata": {
        "colab": {
          "base_uri": "https://localhost:8080/"
        },
        "id": "DdM0GXyaz_58",
        "outputId": "0e38cd88-ff9d-4136-c768-87d4c83905df"
      },
      "execution_count": null,
      "outputs": [
        {
          "output_type": "stream",
          "name": "stdout",
          "text": [
            "Accuracy: 0.84\n",
            "Classification Report:\n",
            "              precision    recall  f1-score   support\n",
            "\n",
            "           0       0.83      0.59      0.69       182\n",
            "           1       0.84      0.95      0.89       414\n",
            "\n",
            "    accuracy                           0.84       596\n",
            "   macro avg       0.84      0.77      0.79       596\n",
            "weighted avg       0.84      0.84      0.83       596\n",
            "\n"
          ]
        }
      ]
    }
  ]
}